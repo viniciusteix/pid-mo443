{
 "cells": [
  {
   "cell_type": "code",
   "execution_count": 1,
   "metadata": {},
   "outputs": [],
   "source": [
    "# importacao das bibliotecas utilizadas\n",
    "import numpy as np\n",
    "import cv2\n",
    "from matplotlib import pyplot as plt\n",
    "import warnings\n",
    "warnings.filterwarnings('ignore')"
   ]
  },
  {
   "cell_type": "code",
   "execution_count": 2,
   "metadata": {},
   "outputs": [],
   "source": [
    "# importacao das imagens\n",
    "foto1a = plt.imread('imgs/foto1A.jpg')\n",
    "foto1b = plt.imread('imgs/foto1B.jpg')\n",
    "foto2a = plt.imread('imgs/foto2A.jpg')\n",
    "foto2b = plt.imread('imgs/foto2B.jpg')"
   ]
  },
  {
   "cell_type": "markdown",
   "metadata": {},
   "source": [
    "### (1)"
   ]
  },
  {
   "cell_type": "code",
   "execution_count": 3,
   "metadata": {},
   "outputs": [],
   "source": [
    "foto1a_g = cv2.cvtColor(foto1a, cv2.COLOR_BGR2GRAY)\n",
    "foto1b_g = cv2.cvtColor(foto1b, cv2.COLOR_BGR2GRAY)\n",
    "foto2a_g = cv2.cvtColor(foto2a, cv2.COLOR_BGR2GRAY)\n",
    "foto2b_g = cv2.cvtColor(foto2b, cv2.COLOR_BGR2GRAY)"
   ]
  },
  {
   "cell_type": "markdown",
   "metadata": {},
   "source": [
    "### (2)"
   ]
  },
  {
   "cell_type": "code",
   "execution_count": 21,
   "metadata": {},
   "outputs": [],
   "source": [
    "sift = cv2.xfeatures2d.SIFT_create()\n",
    "surf = cv2.xfeatures2d.SURF_create()\n",
    "star = cv2.xfeatures2d.StarDetector_create()\n",
    "brief = cv2.xfeatures2d.BriefDescriptorExtractor_create()"
   ]
  },
  {
   "cell_type": "code",
   "execution_count": 5,
   "metadata": {},
   "outputs": [],
   "source": [
    "# SIFT\n",
    "sift_kp_foto1a_g, sift_f_foto1a_g = sift.detectAndCompute(foto1a_g,None)\n",
    "sift_kp_foto1b_g, sift_f_foto1b_g = sift.detectAndCompute(foto1b_g,None)\n",
    "sift_kp_foto2a_g, sift_f_foto2a_g = sift.detectAndCompute(foto2a_g,None)\n",
    "sift_kp_foto2b_g, sift_f_foto2b_g = sift.detectAndCompute(foto2b_g,None)"
   ]
  },
  {
   "cell_type": "code",
   "execution_count": 6,
   "metadata": {},
   "outputs": [],
   "source": [
    "sift_kp_foto1a_g = np.float32([kp.pt for kp in sift_kp_foto1a_g])\n",
    "sift_kp_foto1b_g = np.float32([kp.pt for kp in sift_kp_foto1b_g])\n",
    "sift_kp_foto2a_g = np.float32([kp.pt for kp in sift_kp_foto2a_g])\n",
    "sift_kp_foto2b_g = np.float32([kp.pt for kp in sift_kp_foto2b_g])"
   ]
  },
  {
   "cell_type": "code",
   "execution_count": 7,
   "metadata": {},
   "outputs": [],
   "source": [
    "# SURF\n",
    "surf_kp_foto1a_g, surf_f_foto1a_g = surf.detectAndCompute(foto1a_g,None)\n",
    "surf_kp_foto1b_g, surf_f_foto1b_g = surf.detectAndCompute(foto1b_g,None)\n",
    "surf_kp_foto2a_g, surf_f_foto2a_g = surf.detectAndCompute(foto2a_g,None)\n",
    "surf_kp_foto2b_g, surf_f_foto2b_g = surf.detectAndCompute(foto2b_g,None)"
   ]
  },
  {
   "cell_type": "code",
   "execution_count": 8,
   "metadata": {},
   "outputs": [],
   "source": [
    "surf_kp_foto1a_g = np.float32([kp.pt for kp in surf_kp_foto1a_g])\n",
    "surf_kp_foto1b_g = np.float32([kp.pt for kp in surf_kp_foto1b_g])\n",
    "surf_kp_foto2a_g = np.float32([kp.pt for kp in surf_kp_foto2a_g])\n",
    "surf_kp_foto2b_g = np.float32([kp.pt for kp in surf_kp_foto2b_g])"
   ]
  },
  {
   "cell_type": "code",
   "execution_count": 22,
   "metadata": {},
   "outputs": [],
   "source": [
    "# BRIEF\n",
    "kp_foto1a_g = star.detect(foto1a_g,None)\n",
    "kp_foto1b_g = star.detect(foto1b_g,None)\n",
    "kp_foto2a_g = star.detect(foto2a_g,None)\n",
    "kp_foto2b_g = star.detect(foto2b_g,None)"
   ]
  },
  {
   "cell_type": "code",
   "execution_count": 23,
   "metadata": {},
   "outputs": [],
   "source": [
    "a, b = brief.compute(foto1a_g,kp_foto1a_g)"
   ]
  },
  {
   "cell_type": "markdown",
   "metadata": {},
   "source": [
    "### (3) e (4)"
   ]
  },
  {
   "cell_type": "code",
   "execution_count": 9,
   "metadata": {},
   "outputs": [],
   "source": [
    "matcher = cv2.DescriptorMatcher_create(\"BruteForce\")\n",
    "ratio = 0.8"
   ]
  },
  {
   "cell_type": "code",
   "execution_count": null,
   "metadata": {},
   "outputs": [],
   "source": [
    "rawMatches_foto1 = matcher.knnMatch(sift_f_foto1a_g, sift_f_foto1b_g, 2)"
   ]
  },
  {
   "cell_type": "code",
   "execution_count": null,
   "metadata": {},
   "outputs": [],
   "source": [
    "matches_foto1 = []\n",
    "for m in rawMatches_foto1:\n",
    "    if len(m) == 2 and m[0].distance < m[1].distance * ratio:\n",
    "        matches_foto1.append((m[0].trainIdx, m[0].queryIdx))"
   ]
  },
  {
   "cell_type": "markdown",
   "metadata": {},
   "source": [
    "### (5)"
   ]
  },
  {
   "cell_type": "code",
   "execution_count": null,
   "metadata": {},
   "outputs": [],
   "source": [
    "def calculate_homography(matches, kpsA, kpsB, thr = 4.0):\n",
    "    if len(matches) > 4:\n",
    "        ptsA = np.float32([kpsA[i] for (_, i) in matches])\n",
    "        ptsB = np.float32([kpsB[i] for (i, _) in matches])\n",
    "        \n",
    "        (H, status) = cv2.findHomography(ptsA, ptsB, cv2.RANSAC, thr)\n",
    "        \n",
    "        return (H, status)\n",
    "    return None"
   ]
  },
  {
   "cell_type": "code",
   "execution_count": null,
   "metadata": {},
   "outputs": [],
   "source": [
    "h_foto1 = calculate_homography(matches_foto1, sift_kp_foto1a_g, sift_kp_foto1b_g)"
   ]
  },
  {
   "cell_type": "markdown",
   "metadata": {},
   "source": [
    "### (6)"
   ]
  },
  {
   "cell_type": "code",
   "execution_count": null,
   "metadata": {},
   "outputs": [],
   "source": [
    "persp_foto1 = cv2.warpPerspective(foto1a_g, h_foto1[0], (foto1a_g.shape[1] + foto1b_g.shape[1], foto1a_g.shape[0]))"
   ]
  },
  {
   "cell_type": "markdown",
   "metadata": {},
   "source": [
    "### (7)"
   ]
  },
  {
   "cell_type": "code",
   "execution_count": null,
   "metadata": {},
   "outputs": [],
   "source": [
    "persp_foto1[0:foto1b_g.shape[0], 0:foto1b_g.shape[1]] = foto1b_g"
   ]
  },
  {
   "cell_type": "markdown",
   "metadata": {},
   "source": [
    "### (8)"
   ]
  },
  {
   "cell_type": "code",
   "execution_count": null,
   "metadata": {},
   "outputs": [],
   "source": [
    "def drawMatches(imageA, imageB, kpsA, kpsB, matches, status):\n",
    "    (hA, wA) = imageA.shape[:2]\n",
    "    (hB, wB) = imageB.shape[:2]\n",
    "    vis = np.zeros((max(hA, hB), wA + wB, 3), dtype=\"uint8\")\n",
    "    vis[0:hA, 0:wA] = imageA\n",
    "    vis[0:hB, wA:] = imageB\n",
    "\n",
    "    for ((trainIdx, queryIdx), s) in zip(matches, status):\n",
    "        if s == 1:\n",
    "            ptA = (int(kpsA[queryIdx][0]), int(kpsA[queryIdx][1]))\n",
    "            ptB = (int(kpsB[trainIdx][0]) + wA, int(kpsB[trainIdx][1]))\n",
    "            cv2.line(vis, ptA, ptB, (0, 255, 0), 1)\n",
    "            \n",
    "    return vis"
   ]
  },
  {
   "cell_type": "code",
   "execution_count": null,
   "metadata": {},
   "outputs": [],
   "source": [
    "vis_foto1 = drawMatches(foto1a, foto1b, sift_kp_foto1a_g, sift_kp_foto1b_g, matches_foto1, h_foto1[1])"
   ]
  },
  {
   "cell_type": "code",
   "execution_count": null,
   "metadata": {},
   "outputs": [],
   "source": [
    "plt.imshow(vis_foto1,'gray')"
   ]
  }
 ],
 "metadata": {
  "kernelspec": {
   "display_name": "Python 3",
   "language": "python",
   "name": "python3"
  },
  "language_info": {
   "codemirror_mode": {
    "name": "ipython",
    "version": 3
   },
   "file_extension": ".py",
   "mimetype": "text/x-python",
   "name": "python",
   "nbconvert_exporter": "python",
   "pygments_lexer": "ipython3",
   "version": "3.6.8"
  }
 },
 "nbformat": 4,
 "nbformat_minor": 2
}
